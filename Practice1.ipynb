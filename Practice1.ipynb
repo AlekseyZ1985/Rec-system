{
 "cells": [
  {
   "cell_type": "markdown",
   "metadata": {
    "id": "blI59vDd_yno"
   },
   "source": [
    "# Рекомендательная система на библиотеке surprise (Домашнее задание)\n"
   ]
  },
  {
   "cell_type": "code",
   "execution_count": 1,
   "metadata": {
    "id": "Pu43MMQD_yns"
   },
   "outputs": [],
   "source": [
    "import pandas as pd\n",
    "import numpy as np\n",
    "import warnings\n",
    "warnings.filterwarnings(\"ignore\")"
   ]
  },
  {
   "cell_type": "code",
   "execution_count": 2,
   "metadata": {
    "id": "Ov0SQK91_yn6"
   },
   "outputs": [],
   "source": [
    "from surprise import Dataset\n",
    "from surprise import Reader"
   ]
  },
  {
   "cell_type": "code",
   "execution_count": 3,
   "metadata": {
    "id": "AcOs63Na_yoE"
   },
   "outputs": [],
   "source": [
    "from surprise import KNNBaseline"
   ]
  },
  {
   "cell_type": "code",
   "execution_count": 4,
   "metadata": {
    "id": "TItsSg5e_yoN"
   },
   "outputs": [],
   "source": [
    "from surprise.model_selection import train_test_split"
   ]
  },
  {
   "cell_type": "code",
   "execution_count": 5,
   "metadata": {
    "id": "vaTHk6Wl_yoV"
   },
   "outputs": [],
   "source": [
    "def Precision_at_n(df_ratings, n=3, threshold=5):\n",
    "    rel_n = set(df_ratings[df_ratings.real_rating>=threshold]['itemID'])\n",
    "    t=df_ratings.sort_values(by='rating', ascending=False)[0:n]\n",
    "    ret_n=set(t['itemID'])\n",
    "    return len(rel_n & ret_n)/n"
   ]
  },
  {
   "cell_type": "code",
   "execution_count": 6,
   "metadata": {
    "id": "9NsHlWKF_yoa"
   },
   "outputs": [],
   "source": [
    "def Avg_Precision_at_n(df_ratings, n=10,threshold=5):\n",
    "    avg_p=0\n",
    "    rel_n = set(df_ratings[df_ratings.real_rating>=threshold]['itemID'])\n",
    "    \n",
    "    for i in range(1,n+1):\n",
    "        t=df_ratings.sort_values(by='rating', ascending=False)[0:i]\n",
    "        ret_n=set(t['itemID'])\n",
    "        t2=df_ratings.sort_values(by='rating', ascending=False)[i-1:i]\n",
    "        ret_n2=set(t2['itemID'])\n",
    "        #print(ret_n2,ret_n)\n",
    "        if len((ret_n2 & rel_n))>0:\n",
    "            avg_p=avg_p+len(rel_n & ret_n)/n\n",
    "    return avg_p/n"
   ]
  },
  {
   "cell_type": "code",
   "execution_count": 7,
   "metadata": {
    "id": "pFI50Ctf_yoh"
   },
   "outputs": [],
   "source": [
    "def Recall_at_n(df_ratings, n=3,threshold=5):\n",
    "    rel_n = set(df_ratings[df_ratings.real_rating>=threshold]['itemID'])\n",
    "    t=df_ratings.sort_values(by='rating', ascending=False)[0:n]\n",
    "    ret_n=set(t['itemID'])\n",
    "    return len(rel_n & ret_n)/len(set(rel_n))"
   ]
  },
  {
   "cell_type": "code",
   "execution_count": 8,
   "metadata": {
    "id": "kongmpxc_yoo"
   },
   "outputs": [],
   "source": [
    "def MAP_at_n(df_ratings_all, n=10,threshold=5):\n",
    "    users=df_ratings_all['userID'].unique()\n",
    "    map_at_n=0\n",
    "    for i in users:\n",
    "        df_ratings=df_ratings_all[df_ratings_all.userID==i]\n",
    "        map_at_n=map_at_n+Avg_Precision_at_n(df_ratings,n=n,threshold=threshold)\n",
    "    return map_at_n/len(users)   "
   ]
  },
  {
   "cell_type": "markdown",
   "metadata": {
    "id": "ErBUm4Rj_yos"
   },
   "source": [
    "## Легкое задание\n",
    "Для датасэта\n",
    "\n",
    "```\n",
    "data = Dataset.load_builtin('ml-100k')\n",
    "trainset, testset = train_test_split(data, test_size=.30)\n",
    "\n",
    "```\n",
    "\n",
    "Для каждого k= 10, 20 и 30 выбрать какой вариант KNN лучше item-based или user-based по метрике MAP_at_n (n=5)\n"
   ]
  },
  {
   "cell_type": "code",
   "execution_count": 9,
   "metadata": {
    "id": "iRGCIsMs_yoy"
   },
   "outputs": [
    {
     "data": {
      "text/html": [
       "<div>\n",
       "<style scoped>\n",
       "    .dataframe tbody tr th:only-of-type {\n",
       "        vertical-align: middle;\n",
       "    }\n",
       "\n",
       "    .dataframe tbody tr th {\n",
       "        vertical-align: top;\n",
       "    }\n",
       "\n",
       "    .dataframe thead th {\n",
       "        text-align: right;\n",
       "    }\n",
       "</style>\n",
       "<table border=\"1\" class=\"dataframe\">\n",
       "  <thead>\n",
       "    <tr style=\"text-align: right;\">\n",
       "      <th></th>\n",
       "      <th>user</th>\n",
       "      <th>item</th>\n",
       "      <th>rating</th>\n",
       "      <th>timestamp</th>\n",
       "    </tr>\n",
       "  </thead>\n",
       "  <tbody>\n",
       "    <tr>\n",
       "      <th>0</th>\n",
       "      <td>196</td>\n",
       "      <td>242</td>\n",
       "      <td>3.0</td>\n",
       "      <td>881250949</td>\n",
       "    </tr>\n",
       "    <tr>\n",
       "      <th>1</th>\n",
       "      <td>186</td>\n",
       "      <td>302</td>\n",
       "      <td>3.0</td>\n",
       "      <td>891717742</td>\n",
       "    </tr>\n",
       "    <tr>\n",
       "      <th>2</th>\n",
       "      <td>22</td>\n",
       "      <td>377</td>\n",
       "      <td>1.0</td>\n",
       "      <td>878887116</td>\n",
       "    </tr>\n",
       "    <tr>\n",
       "      <th>3</th>\n",
       "      <td>244</td>\n",
       "      <td>51</td>\n",
       "      <td>2.0</td>\n",
       "      <td>880606923</td>\n",
       "    </tr>\n",
       "    <tr>\n",
       "      <th>4</th>\n",
       "      <td>166</td>\n",
       "      <td>346</td>\n",
       "      <td>1.0</td>\n",
       "      <td>886397596</td>\n",
       "    </tr>\n",
       "  </tbody>\n",
       "</table>\n",
       "</div>"
      ],
      "text/plain": [
       "  user item  rating  timestamp\n",
       "0  196  242     3.0  881250949\n",
       "1  186  302     3.0  891717742\n",
       "2   22  377     1.0  878887116\n",
       "3  244   51     2.0  880606923\n",
       "4  166  346     1.0  886397596"
      ]
     },
     "execution_count": 9,
     "metadata": {},
     "output_type": "execute_result"
    }
   ],
   "source": [
    "### YOUR CODE HERE ###\n",
    "data = Dataset.load_builtin('ml-100k')#загружем данные о фильмах\n",
    "df = pd.DataFrame(data.raw_ratings)\n",
    "df.columns = ['user', 'item', 'rating', 'timestamp']\n",
    "df.head()"
   ]
  },
  {
   "cell_type": "code",
   "execution_count": 10,
   "metadata": {},
   "outputs": [],
   "source": [
    "trainset, testset = train_test_split(data, test_size=.30)"
   ]
  },
  {
   "cell_type": "markdown",
   "metadata": {},
   "source": [
    "### k =10"
   ]
  },
  {
   "cell_type": "code",
   "execution_count": 12,
   "metadata": {},
   "outputs": [
    {
     "data": {
      "text/plain": [
       "0.13879109225874975"
      ]
     },
     "execution_count": 12,
     "metadata": {},
     "output_type": "execute_result"
    }
   ],
   "source": [
    "algo = KNNBaseline(k=10, verbose=False).fit(trainset)\n",
    "predictions_1 = algo.test(testset)\n",
    "df_ratings=pd.DataFrame(columns=['userID', 'itemID', 'rating', 'real_rating'])\n",
    "for i in predictions_1:\n",
    "    df_ratings = df_ratings.append({'userID':i.uid, 'itemID': i.iid, 'rating': i.est, 'real_rating': i.r_ui}, ignore_index=True)\n",
    "MAP_at_n(df_ratings, n=5,threshold=5)"
   ]
  },
  {
   "cell_type": "code",
   "execution_count": 13,
   "metadata": {},
   "outputs": [
    {
     "data": {
      "text/plain": [
       "(30000, 4)"
      ]
     },
     "execution_count": 13,
     "metadata": {},
     "output_type": "execute_result"
    }
   ],
   "source": [
    "df_ratings.shape"
   ]
  },
  {
   "cell_type": "code",
   "execution_count": 14,
   "metadata": {},
   "outputs": [
    {
     "data": {
      "text/plain": [
       "0.14303287380699986"
      ]
     },
     "execution_count": 14,
     "metadata": {},
     "output_type": "execute_result"
    }
   ],
   "source": [
    "sim_options = {'user_based': False } # Item-based подход\n",
    "algo = KNNBaseline(k=10,sim_options=sim_options, verbose=False)\n",
    "predictions_2 = algo.fit(trainset).test(testset)\n",
    "df_ratings1=pd.DataFrame(columns=['userID', 'itemID', 'rating', 'real_rating'])\n",
    "for i in predictions_2:\n",
    "    df_ratings1 = df_ratings1.append({'userID':i.uid, 'itemID': i.iid, 'rating': i.est, 'real_rating': i.r_ui}, ignore_index=True)\n",
    "MAP_at_n(df_ratings1, n=5,threshold=5)"
   ]
  },
  {
   "cell_type": "markdown",
   "metadata": {},
   "source": [
    "#### Вывод: Лучше item-based "
   ]
  },
  {
   "cell_type": "markdown",
   "metadata": {},
   "source": [
    "### k =20"
   ]
  },
  {
   "cell_type": "code",
   "execution_count": 17,
   "metadata": {},
   "outputs": [
    {
     "data": {
      "text/plain": [
       "0.1476564156945927"
      ]
     },
     "execution_count": 17,
     "metadata": {},
     "output_type": "execute_result"
    }
   ],
   "source": [
    "algo = KNNBaseline(k=20, verbose=False).fit(trainset)\n",
    "predictions_1 = algo.test(testset)\n",
    "df_ratings3=pd.DataFrame(columns=['userID', 'itemID', 'rating', 'real_rating'])\n",
    "for i in predictions_1:\n",
    "    df_ratings3 = df_ratings3.append({'userID':i.uid, 'itemID': i.iid, 'rating': i.est, 'real_rating': i.r_ui}, ignore_index=True)\n",
    "MAP_at_n(df_ratings3, n=5,threshold=5)"
   ]
  },
  {
   "cell_type": "code",
   "execution_count": 19,
   "metadata": {},
   "outputs": [
    {
     "data": {
      "text/plain": [
       "0.1498197242842004"
      ]
     },
     "execution_count": 19,
     "metadata": {},
     "output_type": "execute_result"
    }
   ],
   "source": [
    "sim_options = {'user_based': False } # Item-based подход\n",
    "algo = KNNBaseline(k=20,sim_options=sim_options, verbose=False)\n",
    "predictions_2 = algo.fit(trainset).test(testset)\n",
    "df_ratings4=pd.DataFrame(columns=['userID', 'itemID', 'rating', 'real_rating'])\n",
    "for i in predictions_2:\n",
    "    df_ratings4 = df_ratings4.append({'userID':i.uid, 'itemID': i.iid, 'rating': i.est, 'real_rating': i.r_ui}, ignore_index=True)\n",
    "MAP_at_n(df_ratings4, n=5,threshold=5)"
   ]
  },
  {
   "cell_type": "markdown",
   "metadata": {},
   "source": [
    "#### Вывод: Лучше item-based "
   ]
  },
  {
   "cell_type": "markdown",
   "metadata": {},
   "source": [
    "### k =30"
   ]
  },
  {
   "cell_type": "code",
   "execution_count": 21,
   "metadata": {},
   "outputs": [
    {
     "data": {
      "text/plain": [
       "0.1527889713679756"
      ]
     },
     "execution_count": 21,
     "metadata": {},
     "output_type": "execute_result"
    }
   ],
   "source": [
    "algo = KNNBaseline(k=30, verbose=False).fit(trainset)\n",
    "predictions_1 = algo.test(testset)\n",
    "df_ratings5=pd.DataFrame(columns=['userID', 'itemID', 'rating', 'real_rating'])\n",
    "for i in predictions_1:\n",
    "    df_ratings5 = df_ratings5.append({'userID':i.uid, 'itemID': i.iid, 'rating': i.est, 'real_rating': i.r_ui}, ignore_index=True)\n",
    "MAP_at_n(df_ratings5, n=5,threshold=5)"
   ]
  },
  {
   "cell_type": "code",
   "execution_count": 23,
   "metadata": {},
   "outputs": [
    {
     "data": {
      "text/plain": [
       "0.15312831389183557"
      ]
     },
     "execution_count": 23,
     "metadata": {},
     "output_type": "execute_result"
    }
   ],
   "source": [
    "sim_options = {'user_based': False } # Item-based подход\n",
    "algo = KNNBaseline(k=30,sim_options=sim_options, verbose=False)\n",
    "predictions_2 = algo.fit(trainset).test(testset)\n",
    "df_ratings6=pd.DataFrame(columns=['userID', 'itemID', 'rating', 'real_rating'])\n",
    "for i in predictions_2:\n",
    "    df_ratings6 = df_ratings6.append({'userID':i.uid, 'itemID': i.iid, 'rating': i.est, 'real_rating': i.r_ui}, ignore_index=True)\n",
    "MAP_at_n(df_ratings6, n=5,threshold=5)"
   ]
  },
  {
   "cell_type": "markdown",
   "metadata": {},
   "source": [
    "#### Вывод: Лучше item-based "
   ]
  },
  {
   "cell_type": "markdown",
   "metadata": {
    "id": "aKTck4LW_yo7"
   },
   "source": [
    "## Сложное задание\n",
    "\n",
    "Для датасета\n",
    "\n",
    "```\n",
    "data = Dataset.load_builtin('ml-100k')\n",
    "trainset, testset = train_test_split(data, test_size=.30)\n",
    "\n",
    "```\n",
    "\n",
    "а) Для KNN(k=30) для каждого пользователя найти лучший алгоритм по Avg_Precision_at_n(7)\n",
    "Cравнивая между item-based, user-based подход, а также разные меры для (косинусную, Пирсона) в KNN.\n",
    "Докуметация к мерам:\n",
    "https://surprise.readthedocs.io/en/stable/prediction_algorithms.html#similarity-measures-configuration\n",
    "\n",
    "б) Для каждого пользователя расчитайте рейтинги фильмов используя лучший алгоритм из пункта а)\n",
    "\n",
    "в) Сравнить результат из б) с обычном kNN k=30 по метрике MAP (n=7).\n"
   ]
  },
  {
   "cell_type": "code",
   "execution_count": 13,
   "metadata": {},
   "outputs": [],
   "source": [
    "data = Dataset.load_builtin('ml-100k')#загружем данные о фильмах\n",
    "df = pd.DataFrame(data.raw_ratings)\n",
    "df.columns = ['user', 'item', 'rating', 'timestamp']\n",
    "trainset, testset = train_test_split(data, test_size=.30)"
   ]
  },
  {
   "cell_type": "code",
   "execution_count": 14,
   "metadata": {},
   "outputs": [
    {
     "data": {
      "text/plain": [
       "943"
      ]
     },
     "execution_count": 14,
     "metadata": {},
     "output_type": "execute_result"
    }
   ],
   "source": [
    "df['user'].nunique()"
   ]
  },
  {
   "cell_type": "markdown",
   "metadata": {
    "id": "9_lxNgzH_yo8"
   },
   "source": [
    "#### а)"
   ]
  },
  {
   "cell_type": "code",
   "execution_count": 11,
   "metadata": {},
   "outputs": [],
   "source": [
    "algo = KNNBaseline(k=30, verbose=False).fit(trainset)\n",
    "predictions = algo.test(testset)\n",
    "df_ratings=pd.DataFrame(columns=['userID', 'itemID', 'rating', 'real_rating'])\n",
    "for i in predictions:\n",
    "    df_ratings = df_ratings.append({'userID':i.uid, 'itemID': i.iid, 'rating': i.est, 'real_rating': i.r_ui}, ignore_index=True)"
   ]
  },
  {
   "cell_type": "code",
   "execution_count": 13,
   "metadata": {},
   "outputs": [],
   "source": [
    "sim_options = {'user_based': False } # Item-based подход\n",
    "algo = KNNBaseline(k=30,sim_options=sim_options, verbose=False)\n",
    "predictions_1 = algo.fit(trainset).test(testset)\n",
    "df_ratings1=pd.DataFrame(columns=['userID', 'itemID', 'rating', 'real_rating'])\n",
    "for i in predictions_1:\n",
    "    df_ratings1 = df_ratings1.append({'userID':i.uid, 'itemID': i.iid, 'rating': i.est, 'real_rating': i.r_ui}, ignore_index=True)"
   ]
  },
  {
   "cell_type": "markdown",
   "metadata": {},
   "source": [
    "## Внизу считаем cosine для knn 30"
   ]
  },
  {
   "cell_type": "code",
   "execution_count": 15,
   "metadata": {},
   "outputs": [],
   "source": [
    "algo = KNNBaseline(k=30,sim_options= {'name': 'cosine'}, verbose=False)\n",
    "predictions_2 = algo.fit(trainset).test(testset)\n",
    "df_ratings2=pd.DataFrame(columns=['userID', 'itemID', 'rating', 'real_rating'])\n",
    "for i in predictions_2:\n",
    "    df_ratings2 = df_ratings2.append({'userID':i.uid, 'itemID': i.iid, 'rating': i.est, 'real_rating': i.r_ui}, ignore_index=True)"
   ]
  },
  {
   "cell_type": "markdown",
   "metadata": {},
   "source": [
    "## Внизу считаем pearson подход для knn 30"
   ]
  },
  {
   "cell_type": "code",
   "execution_count": 18,
   "metadata": {},
   "outputs": [],
   "source": [
    "algo = KNNBaseline(k=30,sim_options= {'name': \"pearson_baseline\", \"shrinkage\": 0}, verbose=False)\n",
    "predictions_3 = algo.fit(trainset).test(testset)\n",
    "df_ratings3=pd.DataFrame(columns=['userID', 'itemID', 'rating', 'real_rating'])\n",
    "for i in predictions_3:\n",
    "    df_ratings3 = df_ratings3.append({'userID':i.uid, 'itemID': i.iid, 'rating': i.est, 'real_rating': i.r_ui}, ignore_index=True)"
   ]
  },
  {
   "cell_type": "markdown",
   "metadata": {},
   "source": [
    "## Записал результаты в файл, чтобы можно было их быстро скачивать"
   ]
  },
  {
   "cell_type": "code",
   "execution_count": 9,
   "metadata": {},
   "outputs": [],
   "source": [
    "import pandas as pd\n",
    "import numpy as np\n",
    "import warnings\n",
    "warnings.filterwarnings(\"ignore\")\n",
    "df_ratings1 = pd.read_csv('df_ratings.csv')\n",
    "df_ratings2 = pd.read_csv('df_ratings1.csv')\n",
    "df_ratings3 = pd.read_csv('df_ratings2.csv')\n",
    "df_ratings4 = pd.read_csv('df_ratings3.csv')"
   ]
  },
  {
   "cell_type": "code",
   "execution_count": 10,
   "metadata": {},
   "outputs": [],
   "source": [
    "df_total=df_ratings1.merge(df_ratings2[['userID','itemID','rating']],how='left', on=['userID','itemID'])"
   ]
  },
  {
   "cell_type": "code",
   "execution_count": 11,
   "metadata": {},
   "outputs": [],
   "source": [
    "df_total.rename(columns = {'rating_x':'userbased', 'rating_y':'itembased'}, inplace = True)"
   ]
  },
  {
   "cell_type": "code",
   "execution_count": 12,
   "metadata": {},
   "outputs": [],
   "source": [
    "df_total=df_total.merge(df_ratings3[['userID','itemID','rating']],how='left', on=['userID','itemID'])"
   ]
  },
  {
   "cell_type": "code",
   "execution_count": 13,
   "metadata": {},
   "outputs": [],
   "source": [
    "df_total.rename(columns = {'rating':'cosine'}, inplace = True)"
   ]
  },
  {
   "cell_type": "code",
   "execution_count": 14,
   "metadata": {},
   "outputs": [],
   "source": [
    "df_total=df_total.merge(df_ratings4[['userID','itemID','rating']],how='left', on=['userID','itemID'])"
   ]
  },
  {
   "cell_type": "code",
   "execution_count": 15,
   "metadata": {},
   "outputs": [
    {
     "data": {
      "text/html": [
       "<div>\n",
       "<style scoped>\n",
       "    .dataframe tbody tr th:only-of-type {\n",
       "        vertical-align: middle;\n",
       "    }\n",
       "\n",
       "    .dataframe tbody tr th {\n",
       "        vertical-align: top;\n",
       "    }\n",
       "\n",
       "    .dataframe thead th {\n",
       "        text-align: right;\n",
       "    }\n",
       "</style>\n",
       "<table border=\"1\" class=\"dataframe\">\n",
       "  <thead>\n",
       "    <tr style=\"text-align: right;\">\n",
       "      <th></th>\n",
       "      <th>userID</th>\n",
       "      <th>itemID</th>\n",
       "      <th>userbased</th>\n",
       "      <th>real_rating</th>\n",
       "      <th>itembased</th>\n",
       "      <th>cosine</th>\n",
       "      <th>pearson</th>\n",
       "    </tr>\n",
       "  </thead>\n",
       "  <tbody>\n",
       "    <tr>\n",
       "      <th>0</th>\n",
       "      <td>908</td>\n",
       "      <td>185</td>\n",
       "      <td>3.476047</td>\n",
       "      <td>4.0</td>\n",
       "      <td>3.532040</td>\n",
       "      <td>3.625488</td>\n",
       "      <td>3.377857</td>\n",
       "    </tr>\n",
       "    <tr>\n",
       "      <th>1</th>\n",
       "      <td>208</td>\n",
       "      <td>310</td>\n",
       "      <td>3.786814</td>\n",
       "      <td>4.0</td>\n",
       "      <td>3.798462</td>\n",
       "      <td>3.762629</td>\n",
       "      <td>4.136068</td>\n",
       "    </tr>\n",
       "    <tr>\n",
       "      <th>2</th>\n",
       "      <td>416</td>\n",
       "      <td>311</td>\n",
       "      <td>4.225711</td>\n",
       "      <td>3.0</td>\n",
       "      <td>4.112658</td>\n",
       "      <td>4.253829</td>\n",
       "      <td>3.968737</td>\n",
       "    </tr>\n",
       "    <tr>\n",
       "      <th>3</th>\n",
       "      <td>894</td>\n",
       "      <td>83</td>\n",
       "      <td>4.062598</td>\n",
       "      <td>4.0</td>\n",
       "      <td>3.985806</td>\n",
       "      <td>3.946954</td>\n",
       "      <td>4.180306</td>\n",
       "    </tr>\n",
       "    <tr>\n",
       "      <th>4</th>\n",
       "      <td>743</td>\n",
       "      <td>259</td>\n",
       "      <td>2.813875</td>\n",
       "      <td>3.0</td>\n",
       "      <td>3.003120</td>\n",
       "      <td>2.884819</td>\n",
       "      <td>2.398708</td>\n",
       "    </tr>\n",
       "    <tr>\n",
       "      <th>...</th>\n",
       "      <td>...</td>\n",
       "      <td>...</td>\n",
       "      <td>...</td>\n",
       "      <td>...</td>\n",
       "      <td>...</td>\n",
       "      <td>...</td>\n",
       "      <td>...</td>\n",
       "    </tr>\n",
       "    <tr>\n",
       "      <th>29995</th>\n",
       "      <td>303</td>\n",
       "      <td>1097</td>\n",
       "      <td>3.920044</td>\n",
       "      <td>3.0</td>\n",
       "      <td>3.743330</td>\n",
       "      <td>3.795855</td>\n",
       "      <td>3.995836</td>\n",
       "    </tr>\n",
       "    <tr>\n",
       "      <th>29996</th>\n",
       "      <td>883</td>\n",
       "      <td>82</td>\n",
       "      <td>3.828158</td>\n",
       "      <td>3.0</td>\n",
       "      <td>3.759413</td>\n",
       "      <td>3.788206</td>\n",
       "      <td>3.801406</td>\n",
       "    </tr>\n",
       "    <tr>\n",
       "      <th>29997</th>\n",
       "      <td>303</td>\n",
       "      <td>44</td>\n",
       "      <td>3.221234</td>\n",
       "      <td>4.0</td>\n",
       "      <td>3.054479</td>\n",
       "      <td>3.205464</td>\n",
       "      <td>3.382129</td>\n",
       "    </tr>\n",
       "    <tr>\n",
       "      <th>29998</th>\n",
       "      <td>435</td>\n",
       "      <td>154</td>\n",
       "      <td>3.607091</td>\n",
       "      <td>4.0</td>\n",
       "      <td>3.382690</td>\n",
       "      <td>3.652653</td>\n",
       "      <td>3.611965</td>\n",
       "    </tr>\n",
       "    <tr>\n",
       "      <th>29999</th>\n",
       "      <td>776</td>\n",
       "      <td>485</td>\n",
       "      <td>3.897942</td>\n",
       "      <td>2.0</td>\n",
       "      <td>3.666241</td>\n",
       "      <td>3.907006</td>\n",
       "      <td>3.935700</td>\n",
       "    </tr>\n",
       "  </tbody>\n",
       "</table>\n",
       "<p>30000 rows × 7 columns</p>\n",
       "</div>"
      ],
      "text/plain": [
       "       userID  itemID  userbased  real_rating  itembased    cosine   pearson\n",
       "0         908     185   3.476047          4.0   3.532040  3.625488  3.377857\n",
       "1         208     310   3.786814          4.0   3.798462  3.762629  4.136068\n",
       "2         416     311   4.225711          3.0   4.112658  4.253829  3.968737\n",
       "3         894      83   4.062598          4.0   3.985806  3.946954  4.180306\n",
       "4         743     259   2.813875          3.0   3.003120  2.884819  2.398708\n",
       "...       ...     ...        ...          ...        ...       ...       ...\n",
       "29995     303    1097   3.920044          3.0   3.743330  3.795855  3.995836\n",
       "29996     883      82   3.828158          3.0   3.759413  3.788206  3.801406\n",
       "29997     303      44   3.221234          4.0   3.054479  3.205464  3.382129\n",
       "29998     435     154   3.607091          4.0   3.382690  3.652653  3.611965\n",
       "29999     776     485   3.897942          2.0   3.666241  3.907006  3.935700\n",
       "\n",
       "[30000 rows x 7 columns]"
      ]
     },
     "execution_count": 15,
     "metadata": {},
     "output_type": "execute_result"
    }
   ],
   "source": [
    "df_total.rename(columns = {'rating':'pearson'}, inplace = True)\n",
    "df_total"
   ]
  },
  {
   "cell_type": "code",
   "execution_count": 16,
   "metadata": {},
   "outputs": [
    {
     "data": {
      "text/html": [
       "<div>\n",
       "<style scoped>\n",
       "    .dataframe tbody tr th:only-of-type {\n",
       "        vertical-align: middle;\n",
       "    }\n",
       "\n",
       "    .dataframe tbody tr th {\n",
       "        vertical-align: top;\n",
       "    }\n",
       "\n",
       "    .dataframe thead th {\n",
       "        text-align: right;\n",
       "    }\n",
       "</style>\n",
       "<table border=\"1\" class=\"dataframe\">\n",
       "  <thead>\n",
       "    <tr style=\"text-align: right;\">\n",
       "      <th></th>\n",
       "      <th>userID</th>\n",
       "      <th>itemID</th>\n",
       "      <th>userbased</th>\n",
       "      <th>real_rating</th>\n",
       "      <th>itembased</th>\n",
       "      <th>cosine</th>\n",
       "      <th>pearson</th>\n",
       "      <th>Avg_Precision_at_n_total</th>\n",
       "    </tr>\n",
       "  </thead>\n",
       "  <tbody>\n",
       "    <tr>\n",
       "      <th>0</th>\n",
       "      <td>908</td>\n",
       "      <td>185</td>\n",
       "      <td>3.476047</td>\n",
       "      <td>4.0</td>\n",
       "      <td>3.532040</td>\n",
       "      <td>3.625488</td>\n",
       "      <td>3.377857</td>\n",
       "      <td>0</td>\n",
       "    </tr>\n",
       "    <tr>\n",
       "      <th>1</th>\n",
       "      <td>208</td>\n",
       "      <td>310</td>\n",
       "      <td>3.786814</td>\n",
       "      <td>4.0</td>\n",
       "      <td>3.798462</td>\n",
       "      <td>3.762629</td>\n",
       "      <td>4.136068</td>\n",
       "      <td>0</td>\n",
       "    </tr>\n",
       "    <tr>\n",
       "      <th>2</th>\n",
       "      <td>416</td>\n",
       "      <td>311</td>\n",
       "      <td>4.225711</td>\n",
       "      <td>3.0</td>\n",
       "      <td>4.112658</td>\n",
       "      <td>4.253829</td>\n",
       "      <td>3.968737</td>\n",
       "      <td>0</td>\n",
       "    </tr>\n",
       "    <tr>\n",
       "      <th>3</th>\n",
       "      <td>894</td>\n",
       "      <td>83</td>\n",
       "      <td>4.062598</td>\n",
       "      <td>4.0</td>\n",
       "      <td>3.985806</td>\n",
       "      <td>3.946954</td>\n",
       "      <td>4.180306</td>\n",
       "      <td>0</td>\n",
       "    </tr>\n",
       "    <tr>\n",
       "      <th>4</th>\n",
       "      <td>743</td>\n",
       "      <td>259</td>\n",
       "      <td>2.813875</td>\n",
       "      <td>3.0</td>\n",
       "      <td>3.003120</td>\n",
       "      <td>2.884819</td>\n",
       "      <td>2.398708</td>\n",
       "      <td>0</td>\n",
       "    </tr>\n",
       "    <tr>\n",
       "      <th>...</th>\n",
       "      <td>...</td>\n",
       "      <td>...</td>\n",
       "      <td>...</td>\n",
       "      <td>...</td>\n",
       "      <td>...</td>\n",
       "      <td>...</td>\n",
       "      <td>...</td>\n",
       "      <td>...</td>\n",
       "    </tr>\n",
       "    <tr>\n",
       "      <th>29995</th>\n",
       "      <td>303</td>\n",
       "      <td>1097</td>\n",
       "      <td>3.920044</td>\n",
       "      <td>3.0</td>\n",
       "      <td>3.743330</td>\n",
       "      <td>3.795855</td>\n",
       "      <td>3.995836</td>\n",
       "      <td>0</td>\n",
       "    </tr>\n",
       "    <tr>\n",
       "      <th>29996</th>\n",
       "      <td>883</td>\n",
       "      <td>82</td>\n",
       "      <td>3.828158</td>\n",
       "      <td>3.0</td>\n",
       "      <td>3.759413</td>\n",
       "      <td>3.788206</td>\n",
       "      <td>3.801406</td>\n",
       "      <td>0</td>\n",
       "    </tr>\n",
       "    <tr>\n",
       "      <th>29997</th>\n",
       "      <td>303</td>\n",
       "      <td>44</td>\n",
       "      <td>3.221234</td>\n",
       "      <td>4.0</td>\n",
       "      <td>3.054479</td>\n",
       "      <td>3.205464</td>\n",
       "      <td>3.382129</td>\n",
       "      <td>0</td>\n",
       "    </tr>\n",
       "    <tr>\n",
       "      <th>29998</th>\n",
       "      <td>435</td>\n",
       "      <td>154</td>\n",
       "      <td>3.607091</td>\n",
       "      <td>4.0</td>\n",
       "      <td>3.382690</td>\n",
       "      <td>3.652653</td>\n",
       "      <td>3.611965</td>\n",
       "      <td>0</td>\n",
       "    </tr>\n",
       "    <tr>\n",
       "      <th>29999</th>\n",
       "      <td>776</td>\n",
       "      <td>485</td>\n",
       "      <td>3.897942</td>\n",
       "      <td>2.0</td>\n",
       "      <td>3.666241</td>\n",
       "      <td>3.907006</td>\n",
       "      <td>3.935700</td>\n",
       "      <td>0</td>\n",
       "    </tr>\n",
       "  </tbody>\n",
       "</table>\n",
       "<p>30000 rows × 8 columns</p>\n",
       "</div>"
      ],
      "text/plain": [
       "       userID  itemID  userbased  real_rating  itembased    cosine   pearson  \\\n",
       "0         908     185   3.476047          4.0   3.532040  3.625488  3.377857   \n",
       "1         208     310   3.786814          4.0   3.798462  3.762629  4.136068   \n",
       "2         416     311   4.225711          3.0   4.112658  4.253829  3.968737   \n",
       "3         894      83   4.062598          4.0   3.985806  3.946954  4.180306   \n",
       "4         743     259   2.813875          3.0   3.003120  2.884819  2.398708   \n",
       "...       ...     ...        ...          ...        ...       ...       ...   \n",
       "29995     303    1097   3.920044          3.0   3.743330  3.795855  3.995836   \n",
       "29996     883      82   3.828158          3.0   3.759413  3.788206  3.801406   \n",
       "29997     303      44   3.221234          4.0   3.054479  3.205464  3.382129   \n",
       "29998     435     154   3.607091          4.0   3.382690  3.652653  3.611965   \n",
       "29999     776     485   3.897942          2.0   3.666241  3.907006  3.935700   \n",
       "\n",
       "       Avg_Precision_at_n_total  \n",
       "0                             0  \n",
       "1                             0  \n",
       "2                             0  \n",
       "3                             0  \n",
       "4                             0  \n",
       "...                         ...  \n",
       "29995                         0  \n",
       "29996                         0  \n",
       "29997                         0  \n",
       "29998                         0  \n",
       "29999                         0  \n",
       "\n",
       "[30000 rows x 8 columns]"
      ]
     },
     "execution_count": 16,
     "metadata": {},
     "output_type": "execute_result"
    }
   ],
   "source": [
    "df_total['Avg_Precision_at_n_total'] = df_total.apply(lambda x: 0, axis=1)\n",
    "df_total"
   ]
  },
  {
   "cell_type": "code",
   "execution_count": 18,
   "metadata": {},
   "outputs": [],
   "source": [
    "users=list(df_total['userID'].unique())\n",
    "for i in users:\n",
    "    df_ratings5=df_ratings1[df_ratings1.userID==i]\n",
    "    df_ratings6=df_ratings2[df_ratings2.userID==i]\n",
    "    df_ratings7=df_ratings3[df_ratings3.userID==i]\n",
    "    df_ratings8=df_ratings4[df_ratings4.userID==i]\n",
    "    Avg_user = Avg_Precision_at_n(df_ratings5, n=7,threshold=5)\n",
    "    Avg_item = Avg_Precision_at_n(df_ratings6, n=7,threshold=5)\n",
    "    Avg_cosine = Avg_Precision_at_n(df_ratings7, n=7,threshold=5)\n",
    "    Avg_pearson = Avg_Precision_at_n(df_ratings8, n=7,threshold=5)  \n",
    "    if max(Avg_user, Avg_item, Avg_cosine, Avg_pearson) == Avg_user:\n",
    "        df_total['Avg_Precision_at_n_total'] = df_total.apply(lambda x: x.userbased if x.userID ==i else x.Avg_Precision_at_n_total, axis=1)\n",
    "    elif max(Avg_user, Avg_item, Avg_cosine, Avg_pearson) == Avg_item:\n",
    "        df_total['Avg_Precision_at_n_total'] = df_total.apply(lambda x: x.itembased if x.userID == i else x.Avg_Precision_at_n_total, axis=1)\n",
    "    elif max(Avg_user, Avg_item, Avg_cosine, Avg_pearson) == Avg_cosine:\n",
    "        df_total['Avg_Precision_at_n_total'] = df_total.apply(lambda x: x.cosine if x.userID == i else x.Avg_Precision_at_n_total, axis=1)\n",
    "    elif max(Avg_user, Avg_item, Avg_cosine, Avg_pearson) == Avg_pearson:\n",
    "        df_total['Avg_Precision_at_n_total'] = df_total.apply(lambda x: x.pearson if x.userID == i else x.Avg_Precision_at_n_total, axis=1) "
   ]
  },
  {
   "cell_type": "markdown",
   "metadata": {},
   "source": [
    "### Рейтинги фильмов для каждого пользователя используя лучший алгоритм из пункта а) в столбце \"Avg_Precision_at_n_total\""
   ]
  },
  {
   "cell_type": "code",
   "execution_count": 19,
   "metadata": {},
   "outputs": [
    {
     "data": {
      "text/html": [
       "<div>\n",
       "<style scoped>\n",
       "    .dataframe tbody tr th:only-of-type {\n",
       "        vertical-align: middle;\n",
       "    }\n",
       "\n",
       "    .dataframe tbody tr th {\n",
       "        vertical-align: top;\n",
       "    }\n",
       "\n",
       "    .dataframe thead th {\n",
       "        text-align: right;\n",
       "    }\n",
       "</style>\n",
       "<table border=\"1\" class=\"dataframe\">\n",
       "  <thead>\n",
       "    <tr style=\"text-align: right;\">\n",
       "      <th></th>\n",
       "      <th>userID</th>\n",
       "      <th>itemID</th>\n",
       "      <th>userbased</th>\n",
       "      <th>real_rating</th>\n",
       "      <th>itembased</th>\n",
       "      <th>cosine</th>\n",
       "      <th>pearson</th>\n",
       "      <th>Avg_Precision_at_n_total</th>\n",
       "    </tr>\n",
       "  </thead>\n",
       "  <tbody>\n",
       "    <tr>\n",
       "      <th>0</th>\n",
       "      <td>908</td>\n",
       "      <td>185</td>\n",
       "      <td>3.476047</td>\n",
       "      <td>4.0</td>\n",
       "      <td>3.532040</td>\n",
       "      <td>3.625488</td>\n",
       "      <td>3.377857</td>\n",
       "      <td>3.476047</td>\n",
       "    </tr>\n",
       "    <tr>\n",
       "      <th>1</th>\n",
       "      <td>208</td>\n",
       "      <td>310</td>\n",
       "      <td>3.786814</td>\n",
       "      <td>4.0</td>\n",
       "      <td>3.798462</td>\n",
       "      <td>3.762629</td>\n",
       "      <td>4.136068</td>\n",
       "      <td>3.786814</td>\n",
       "    </tr>\n",
       "    <tr>\n",
       "      <th>2</th>\n",
       "      <td>416</td>\n",
       "      <td>311</td>\n",
       "      <td>4.225711</td>\n",
       "      <td>3.0</td>\n",
       "      <td>4.112658</td>\n",
       "      <td>4.253829</td>\n",
       "      <td>3.968737</td>\n",
       "      <td>4.225711</td>\n",
       "    </tr>\n",
       "    <tr>\n",
       "      <th>3</th>\n",
       "      <td>894</td>\n",
       "      <td>83</td>\n",
       "      <td>4.062598</td>\n",
       "      <td>4.0</td>\n",
       "      <td>3.985806</td>\n",
       "      <td>3.946954</td>\n",
       "      <td>4.180306</td>\n",
       "      <td>3.985806</td>\n",
       "    </tr>\n",
       "    <tr>\n",
       "      <th>4</th>\n",
       "      <td>743</td>\n",
       "      <td>259</td>\n",
       "      <td>2.813875</td>\n",
       "      <td>3.0</td>\n",
       "      <td>3.003120</td>\n",
       "      <td>2.884819</td>\n",
       "      <td>2.398708</td>\n",
       "      <td>2.813875</td>\n",
       "    </tr>\n",
       "    <tr>\n",
       "      <th>...</th>\n",
       "      <td>...</td>\n",
       "      <td>...</td>\n",
       "      <td>...</td>\n",
       "      <td>...</td>\n",
       "      <td>...</td>\n",
       "      <td>...</td>\n",
       "      <td>...</td>\n",
       "      <td>...</td>\n",
       "    </tr>\n",
       "    <tr>\n",
       "      <th>29995</th>\n",
       "      <td>303</td>\n",
       "      <td>1097</td>\n",
       "      <td>3.920044</td>\n",
       "      <td>3.0</td>\n",
       "      <td>3.743330</td>\n",
       "      <td>3.795855</td>\n",
       "      <td>3.995836</td>\n",
       "      <td>3.920044</td>\n",
       "    </tr>\n",
       "    <tr>\n",
       "      <th>29996</th>\n",
       "      <td>883</td>\n",
       "      <td>82</td>\n",
       "      <td>3.828158</td>\n",
       "      <td>3.0</td>\n",
       "      <td>3.759413</td>\n",
       "      <td>3.788206</td>\n",
       "      <td>3.801406</td>\n",
       "      <td>3.828158</td>\n",
       "    </tr>\n",
       "    <tr>\n",
       "      <th>29997</th>\n",
       "      <td>303</td>\n",
       "      <td>44</td>\n",
       "      <td>3.221234</td>\n",
       "      <td>4.0</td>\n",
       "      <td>3.054479</td>\n",
       "      <td>3.205464</td>\n",
       "      <td>3.382129</td>\n",
       "      <td>3.221234</td>\n",
       "    </tr>\n",
       "    <tr>\n",
       "      <th>29998</th>\n",
       "      <td>435</td>\n",
       "      <td>154</td>\n",
       "      <td>3.607091</td>\n",
       "      <td>4.0</td>\n",
       "      <td>3.382690</td>\n",
       "      <td>3.652653</td>\n",
       "      <td>3.611965</td>\n",
       "      <td>3.382690</td>\n",
       "    </tr>\n",
       "    <tr>\n",
       "      <th>29999</th>\n",
       "      <td>776</td>\n",
       "      <td>485</td>\n",
       "      <td>3.897942</td>\n",
       "      <td>2.0</td>\n",
       "      <td>3.666241</td>\n",
       "      <td>3.907006</td>\n",
       "      <td>3.935700</td>\n",
       "      <td>3.897942</td>\n",
       "    </tr>\n",
       "  </tbody>\n",
       "</table>\n",
       "<p>30000 rows × 8 columns</p>\n",
       "</div>"
      ],
      "text/plain": [
       "       userID  itemID  userbased  real_rating  itembased    cosine   pearson  \\\n",
       "0         908     185   3.476047          4.0   3.532040  3.625488  3.377857   \n",
       "1         208     310   3.786814          4.0   3.798462  3.762629  4.136068   \n",
       "2         416     311   4.225711          3.0   4.112658  4.253829  3.968737   \n",
       "3         894      83   4.062598          4.0   3.985806  3.946954  4.180306   \n",
       "4         743     259   2.813875          3.0   3.003120  2.884819  2.398708   \n",
       "...       ...     ...        ...          ...        ...       ...       ...   \n",
       "29995     303    1097   3.920044          3.0   3.743330  3.795855  3.995836   \n",
       "29996     883      82   3.828158          3.0   3.759413  3.788206  3.801406   \n",
       "29997     303      44   3.221234          4.0   3.054479  3.205464  3.382129   \n",
       "29998     435     154   3.607091          4.0   3.382690  3.652653  3.611965   \n",
       "29999     776     485   3.897942          2.0   3.666241  3.907006  3.935700   \n",
       "\n",
       "       Avg_Precision_at_n_total  \n",
       "0                      3.476047  \n",
       "1                      3.786814  \n",
       "2                      4.225711  \n",
       "3                      3.985806  \n",
       "4                      2.813875  \n",
       "...                         ...  \n",
       "29995                  3.920044  \n",
       "29996                  3.828158  \n",
       "29997                  3.221234  \n",
       "29998                  3.382690  \n",
       "29999                  3.897942  \n",
       "\n",
       "[30000 rows x 8 columns]"
      ]
     },
     "execution_count": 19,
     "metadata": {},
     "output_type": "execute_result"
    }
   ],
   "source": [
    "df_total"
   ]
  },
  {
   "cell_type": "markdown",
   "metadata": {
    "id": "N8if-Exg_ypi"
   },
   "source": [
    "#### в)"
   ]
  },
  {
   "cell_type": "code",
   "execution_count": 30,
   "metadata": {},
   "outputs": [],
   "source": [
    "df_ratings_x = df_total[[\"userID\", \"itemID\", \"real_rating\", \"Avg_Precision_at_n_total\"]]\n",
    "df_ratings_x.rename(columns = {'Avg_Precision_at_n_total':'rating'}, inplace = True)"
   ]
  },
  {
   "cell_type": "code",
   "execution_count": 31,
   "metadata": {
    "id": "Iei5P2xCdgtd"
   },
   "outputs": [
    {
     "name": "stdout",
     "output_type": "stream",
     "text": [
      "0.12234077087887094 0.14835414547579306\n"
     ]
    }
   ],
   "source": [
    "### YOUR CODE HERE ###\n",
    "print(MAP_at_n(df_ratings1,7),MAP_at_n(df_ratings_x,7))"
   ]
  }
 ],
 "metadata": {
  "colab": {
   "provenance": []
  },
  "kernelspec": {
   "display_name": "Python 3 (ipykernel)",
   "language": "python",
   "name": "python3"
  },
  "language_info": {
   "codemirror_mode": {
    "name": "ipython",
    "version": 3
   },
   "file_extension": ".py",
   "mimetype": "text/x-python",
   "name": "python",
   "nbconvert_exporter": "python",
   "pygments_lexer": "ipython3",
   "version": "3.9.12"
  }
 },
 "nbformat": 4,
 "nbformat_minor": 1
}
